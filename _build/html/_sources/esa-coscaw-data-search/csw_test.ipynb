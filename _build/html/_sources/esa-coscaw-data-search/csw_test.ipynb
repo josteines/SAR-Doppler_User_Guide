{
 "cells": [
  {
   "cell_type": "code",
   "execution_count": 12,
   "metadata": {},
   "outputs": [
    {
     "name": "stdout",
     "output_type": "stream",
     "text": [
      "<class 'datetime.datetime'>\n"
     ]
    }
   ],
   "source": [
    "from fadg.find_and_collocate import SearchCSW\n",
    "from datetime import datetime\n",
    "\n",
    "# time_str = '2012-02-21 00:00:00' # Valid time for the datasets I want to access\n",
    "time_str = '2024-08-07 00:00:00' # Valid time for the datasets this code example uses\n",
    "time = datetime.strptime(time_str, '%Y-%m-%d %H:%M:%S')#.date()\n",
    "print(type(time))\n",
    "\n",
    "# dt = 192\n",
    "dt = 24\n",
    "# dt = 10000\n",
    "\n",
    "# Find all SAR data dt/2 hours back in time from now (if dt and time is not specified):\n",
    "# sar = SearchCSW(time = time, dt=dt, text=\"ASAR\", endpoint=\"https://data.csw.met.no/csw\")\n",
    "sar = SearchCSW(text=\"SAR\", endpoint=\"https://data.csw.met.no/csw\") # Worked but got sarwind data (as expected)\n"
   ]
  },
  {
   "cell_type": "code",
   "execution_count": 13,
   "metadata": {},
   "outputs": [
    {
     "name": "stdout",
     "output_type": "stream",
     "text": [
      "8\n"
     ]
    }
   ],
   "source": [
    "print(len(sar.urls))"
   ]
  },
  {
   "cell_type": "code",
   "execution_count": 14,
   "metadata": {},
   "outputs": [
    {
     "data": {
      "text/plain": [
       "['https://thredds.met.no/thredds/dodsC/sarwind/2024/08/21/S1A_IW_GRDM_1SDV_20240821T171012_20240821T171039_055314_06BE95_2A98_MEPS.nc',\n",
       " 'https://thredds.met.no/thredds/dodsC/sarwind/2024/08/21/S1A_IW_GRDM_1SDV_20240821T171038_20240821T171104_055314_06BE95_68C4_MEPS.nc',\n",
       " 'https://thredds.met.no/thredds/dodsC/sarwind/2024/08/21/S1A_IW_GRDM_1SDV_20240821T171102_20240821T171129_055314_06BE95_CAEF_MEPS.nc',\n",
       " 'https://thredds.met.no/thredds/dodsC/sarwind/2024/08/21/S1A_IW_GRDM_1SDV_20240821T171127_20240821T171154_055314_06BE95_D605_MEPS.nc',\n",
       " 'https://thredds.met.no/thredds/dodsC/sarwind/2024/08/21/S1A_IW_GRDM_1SDV_20240821T171152_20240821T171219_055314_06BE95_F7A7_MEPS.nc',\n",
       " 'https://thredds.met.no/thredds/dodsC/sarwind/2024/08/21/S1A_IW_GRDM_1SDV_20240821T171218_20240821T171245_055314_06BE95_3A6E_MEPS.nc',\n",
       " 'https://thredds.met.no/thredds/dodsC/sarwind/2024/08/21/S1A_IW_GRDM_1SDV_20240821T171243_20240821T171309_055314_06BE95_AFAB_AROMEARCTIC.nc',\n",
       " 'https://thredds.met.no/thredds/dodsC/sarwind/2024/08/21/S1A_IW_GRDM_1SDV_20240821T171243_20240821T171309_055314_06BE95_AFAB_MEPS.nc']"
      ]
     },
     "execution_count": 14,
     "metadata": {},
     "output_type": "execute_result"
    }
   ],
   "source": [
    "sar.urls\n"
   ]
  },
  {
   "cell_type": "code",
   "execution_count": 15,
   "metadata": {},
   "outputs": [
    {
     "data": {
      "text/plain": [
       "<fadg.find_and_collocate.SearchCSW at 0x7f7731d064a0>"
      ]
     },
     "execution_count": 15,
     "metadata": {},
     "output_type": "execute_result"
    }
   ],
   "source": [
    "sar"
   ]
  },
  {
   "cell_type": "code",
   "execution_count": null,
   "metadata": {},
   "outputs": [],
   "source": []
  },
  {
   "cell_type": "code",
   "execution_count": 16,
   "metadata": {},
   "outputs": [
    {
     "ename": "ValueError",
     "evalue": "The archive file https://thredds.met.no/thredds/dodsC/fou-hi/norkyst800m-1h/NorKyst-800m_ZDEPTHS_his.an.2012040800.nc is not available. Try another dataset.",
     "output_type": "error",
     "traceback": [
      "\u001b[0;31m---------------------------------------------------------------------------\u001b[0m",
      "\u001b[0;31mOSError\u001b[0m                                   Traceback (most recent call last)",
      "File \u001b[0;32m~/.local/share/Trash/files/esa-coscaw-data-search.2/fadg/find_and_collocate.py:284\u001b[0m, in \u001b[0;36mCollocate.assert_available\u001b[0;34m(url)\u001b[0m\n\u001b[1;32m    283\u001b[0m \u001b[38;5;28;01mtry\u001b[39;00m:\n\u001b[0;32m--> 284\u001b[0m     \u001b[43mnetCDF4\u001b[49m\u001b[38;5;241;43m.\u001b[39;49m\u001b[43mDataset\u001b[49m\u001b[43m(\u001b[49m\u001b[43murl\u001b[49m\u001b[43m)\u001b[49m\n\u001b[1;32m    285\u001b[0m \u001b[38;5;28;01mexcept\u001b[39;00m \u001b[38;5;167;01mOSError\u001b[39;00m:\n",
      "File \u001b[0;32msrc/netCDF4/_netCDF4.pyx:2469\u001b[0m, in \u001b[0;36mnetCDF4._netCDF4.Dataset.__init__\u001b[0;34m()\u001b[0m\n",
      "File \u001b[0;32msrc/netCDF4/_netCDF4.pyx:2028\u001b[0m, in \u001b[0;36mnetCDF4._netCDF4._ensure_nc_success\u001b[0;34m()\u001b[0m\n",
      "\u001b[0;31mOSError\u001b[0m: [Errno -90] NetCDF: file not found: 'https://thredds.met.no/thredds/dodsC/fou-hi/norkyst800m-1h/NorKyst-800m_ZDEPTHS_his.an.2012040800.nc'",
      "\nDuring handling of the above exception, another exception occurred:\n",
      "\u001b[0;31mValueError\u001b[0m                                Traceback (most recent call last)",
      "Cell \u001b[0;32mIn[16], line 10\u001b[0m\n\u001b[1;32m      7\u001b[0m coll \u001b[38;5;241m=\u001b[39m find_and_collocate\u001b[38;5;241m.\u001b[39mNorKyst800(url)\n\u001b[1;32m      9\u001b[0m \u001b[38;5;66;03m# Get url of nearest Norkyst800 dataset\u001b[39;00m\n\u001b[0;32m---> 10\u001b[0m norkyst_url \u001b[38;5;241m=\u001b[39m \u001b[43mcoll\u001b[49m\u001b[38;5;241;43m.\u001b[39;49m\u001b[43mget_odap_url_of_nearest\u001b[49m\u001b[43m(\u001b[49m\u001b[43m)\u001b[49m\n",
      "File \u001b[0;32m~/.local/share/Trash/files/esa-coscaw-data-search.2/fadg/find_and_collocate.py:492\u001b[0m, in \u001b[0;36mNorKyst800.get_odap_url_of_nearest\u001b[0;34m(self)\u001b[0m\n\u001b[1;32m    488\u001b[0m url_file \u001b[38;5;241m=\u001b[39m \u001b[38;5;124m\"\u001b[39m\u001b[38;5;124mNorKyst-800m_ZDEPTHS_his.an.\u001b[39m\u001b[38;5;132;01m%04d\u001b[39;00m\u001b[38;5;132;01m%02d\u001b[39;00m\u001b[38;5;132;01m%02d\u001b[39;00m\u001b[38;5;124m00.nc\u001b[39m\u001b[38;5;124m\"\u001b[39m \u001b[38;5;241m%\u001b[39m (\u001b[38;5;28mself\u001b[39m\u001b[38;5;241m.\u001b[39mtime\u001b[38;5;241m.\u001b[39myear,\n\u001b[1;32m    489\u001b[0m                                                               \u001b[38;5;28mself\u001b[39m\u001b[38;5;241m.\u001b[39mtime\u001b[38;5;241m.\u001b[39mmonth,\n\u001b[1;32m    490\u001b[0m                                                               \u001b[38;5;28mself\u001b[39m\u001b[38;5;241m.\u001b[39mtime\u001b[38;5;241m.\u001b[39mday)\n\u001b[1;32m    491\u001b[0m url \u001b[38;5;241m=\u001b[39m os\u001b[38;5;241m.\u001b[39mpath\u001b[38;5;241m.\u001b[39mjoin(url_path, url_file)\n\u001b[0;32m--> 492\u001b[0m \u001b[38;5;28;43mself\u001b[39;49m\u001b[38;5;241;43m.\u001b[39;49m\u001b[43massert_available\u001b[49m\u001b[43m(\u001b[49m\u001b[43murl\u001b[49m\u001b[43m)\u001b[49m\n\u001b[1;32m    494\u001b[0m \u001b[38;5;28;01mreturn\u001b[39;00m url\n",
      "File \u001b[0;32m~/.local/share/Trash/files/esa-coscaw-data-search.2/fadg/find_and_collocate.py:286\u001b[0m, in \u001b[0;36mCollocate.assert_available\u001b[0;34m(url)\u001b[0m\n\u001b[1;32m    284\u001b[0m     netCDF4\u001b[38;5;241m.\u001b[39mDataset(url)\n\u001b[1;32m    285\u001b[0m \u001b[38;5;28;01mexcept\u001b[39;00m \u001b[38;5;167;01mOSError\u001b[39;00m:\n\u001b[0;32m--> 286\u001b[0m     \u001b[38;5;28;01mraise\u001b[39;00m \u001b[38;5;167;01mValueError\u001b[39;00m(\u001b[38;5;124m\"\u001b[39m\u001b[38;5;124mThe archive file \u001b[39m\u001b[38;5;132;01m%s\u001b[39;00m\u001b[38;5;124m is not available. Try another dataset.\u001b[39m\u001b[38;5;124m\"\u001b[39m \u001b[38;5;241m%\u001b[39m url)\n\u001b[1;32m    287\u001b[0m \u001b[38;5;28;01mreturn\u001b[39;00m \u001b[38;5;28;01mNone\u001b[39;00m\n",
      "\u001b[0;31mValueError\u001b[0m: The archive file https://thredds.met.no/thredds/dodsC/fou-hi/norkyst800m-1h/NorKyst-800m_ZDEPTHS_his.an.2012040800.nc is not available. Try another dataset."
     ]
    }
   ],
   "source": [
    "from fadg import find_and_collocate\n",
    "\n",
    "# Specify a dataset url\n",
    "url = \"https://thredds.met.no/thredds/dodsC/remotesensingenvisat/asar-doppler/2012/04/08/ASA_WSDV2PRNMI20120408_110444_000617553113_00267_52867_0000.nc\"\n",
    "\n",
    "# Initialize fadg object - this will find overlapping Norkyst800 datasets\n",
    "coll = find_and_collocate.NorKyst800(url)\n",
    "\n",
    "# Get url of nearest Norkyst800 dataset\n",
    "norkyst_url = coll.get_odap_url_of_nearest()"
   ]
  },
  {
   "cell_type": "code",
   "execution_count": null,
   "metadata": {},
   "outputs": [],
   "source": []
  }
 ],
 "metadata": {
  "kernelspec": {
   "display_name": ".venv",
   "language": "python",
   "name": ".venv"
  },
  "language_info": {
   "codemirror_mode": {
    "name": "ipython",
    "version": 3
   },
   "file_extension": ".py",
   "mimetype": "text/x-python",
   "name": "python",
   "nbconvert_exporter": "python",
   "pygments_lexer": "ipython3",
   "version": "3.10.12"
  }
 },
 "nbformat": 4,
 "nbformat_minor": 2
}
