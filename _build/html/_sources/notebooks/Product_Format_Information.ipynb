{
 "cells": [
  {
   "cell_type": "markdown",
   "metadata": {},
   "source": [
    "(product:format:page)=\n",
    "# Product Format Information"
   ]
  },
  {
   "cell_type": "markdown",
   "metadata": {},
   "source": [
    "<br />\n",
    "\n",
    "```{contents}\n",
    "```\n",
    "\n",
    "<br />"
   ]
  },
  {
   "cell_type": "markdown",
   "metadata": {},
   "source": [
    "This notebook highlights more spesific product information about the SAR Doppler data. \n",
    "\n",
    "<br />\n",
    "<br />"
   ]
  },
  {
   "cell_type": "markdown",
   "metadata": {},
   "source": [
    "## NetCDF File Format\n",
    "\n",
    "NetCDF (Network Common Data Form) comprises software libraries and machine-independent data formats designed to facilitate the creation, access, and sharing of array-oriented scientific data. Additionally, it serves as a community standard for exchanging scientific data.\n",
    "\n",
    "<br />"
   ]
  },
  {
   "cell_type": "markdown",
   "metadata": {},
   "source": [
    "### Qualities of netCDF"
   ]
  },
  {
   "cell_type": "markdown",
   "metadata": {},
   "source": [
    "* __Self-Describing__:\n",
    "<br /> \n",
    "    > Each netCDF file contains metadata that details the data it holds.\n",
    "<br />\n",
    "\n",
    "* __Portable__:\n",
    "<br /> \n",
    "    > NetCDF files can be accessed on different computer systems, regardless of how they store integers, characters, and floating-point numbers.\n",
    "<br />\n",
    "\n",
    "* __Scalable__:\n",
    "<br />  \n",
    "    > NetCDF interfaces allow efficient access to small subsets of large datasets in various formats, even when stored on remote servers.\n",
    "<br />\n",
    "\n",
    "* __Appendable__:\n",
    "<br />  \n",
    "    > New data can be added to an existing netCDF file without the need to copy the entire dataset or alter its structure.\n",
    "<br />\n",
    "\n",
    "* __Sharable__:\n",
    "<br />  \n",
    "    > A single netCDF file can be accessed by one writer and multiple readers concurrently.\n",
    "<br />\n",
    "\n",
    "* __Archivable__:\n",
    "<br />  \n",
    "    > Access to all earlier forms of netCDF data will be supported by current and future versions of the software.\n",
    "\n",
    "<br />\n",
    "<br />"
   ]
  },
  {
   "cell_type": "markdown",
   "metadata": {},
   "source": [
    "## Filenames\n",
    "\n",
    "PUT FILENAME DEF HERE\n",
    "\n",
    "- NB! The file name definition with samples (for HH and VV) should be included as well."
   ]
  },
  {
   "cell_type": "markdown",
   "metadata": {},
   "source": []
  }
 ],
 "metadata": {
  "language_info": {
   "name": "python"
  }
 },
 "nbformat": 4,
 "nbformat_minor": 2
}
