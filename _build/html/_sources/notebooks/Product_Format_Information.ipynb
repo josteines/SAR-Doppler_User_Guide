{
 "cells": [
  {
   "cell_type": "markdown",
   "metadata": {},
   "source": [
    "(product:format:page)=\n",
    "# Product Format Information"
   ]
  },
  {
   "cell_type": "markdown",
   "metadata": {},
   "source": [
    "<br />\n",
    "\n",
    "```{contents}\n",
    "```\n",
    "\n",
    "<br />"
   ]
  },
  {
   "cell_type": "markdown",
   "metadata": {},
   "source": [
    "This notebook highlights more spesific product information about the SAR Doppler data. \n",
    "\n",
    "<br />\n",
    "<br />"
   ]
  },
  {
   "cell_type": "markdown",
   "metadata": {},
   "source": [
    "## NetCDF File Format\n",
    "\n",
    "NetCDF (Network Common Data Form) comprises software libraries and machine-independent data formats designed to facilitate the creation, access, and sharing of array-oriented scientific data. Additionally, it serves as a community standard for exchanging scientific data.\n",
    "\n",
    "<br />"
   ]
  },
  {
   "cell_type": "markdown",
   "metadata": {},
   "source": [
    "### Qualities of netCDF"
   ]
  },
  {
   "cell_type": "markdown",
   "metadata": {},
   "source": [
    "* **Self-Describing**:\n",
    "    > Each netCDF file contains metadata that details the data it holds.\n",
    "\n",
    "* **Portable**:\n",
    "    > NetCDF files can be accessed on different computer systems, regardless of how they store integers, characters, and floating-point numbers.\n",
    "\n",
    "* **Scalable**:\n",
    "    > NetCDF interfaces allow efficient access to small subsets of large datasets in various formats, even when stored on remote servers.\n",
    "\n",
    "* **Appendable**:\n",
    "    > New data can be added to an existing netCDF file without the need to copy the entire dataset or alter its structure.\n",
    "\n",
    "* **Sharable**:\n",
    "    > A single netCDF file can be accessed by one writer and multiple readers concurrently.\n",
    "\n",
    "* **Archivable**:\n",
    "    > Access to all earlier forms of netCDF data will be supported by current and future versions of the software.\n",
    "\n",
    "<br />\n",
    "<br />"
   ]
  },
  {
   "cell_type": "markdown",
   "metadata": {},
   "source": [
    "## Filename Convention\n",
    "\n",
    "ASAR RVL filenames follow the Envisat convention with the exception of the file ending \".nc\" for NetCDF files. The format is:\n",
    "\n",
    "```ASA_WSDp2PRNMIYYYYmmdd_HHMMSS_ddddddddPCCC_ooooo_aaaaa_00000.nc```\n",
    "\n",
    "### Components of the Filename:\n",
    "\n",
    "- **ASA_WSDp2PRNMI**: Product identifier.\n",
    "  - **p**: Indicates polarization. For dual co-polarization data, \"V\" represents vertical polarization in transmit and receive, and \"H\" represents horizontal polarization in transmit and receive.\n",
    "  \n",
    "- **YYYYmmdd_HHMMSS**: Acquisition date and start time (UTC).\n",
    "\n",
    "- **dddddddd**: Acquisition duration in milliseconds.\n",
    "\n",
    "- **P**: Orbit phase.\n",
    "\n",
    "- **CCC**: Orbit cycle.\n",
    "\n",
    "- **ooooo**: Relative orbit number.\n",
    "\n",
    "- **aaaaa**: Absolute orbit number.\n",
    "\n",
    "<br />\n",
    "<br />\n",
    "\n",
    "### Filename Examples\n",
    "\n",
    "The filename for the **VV** product:\n",
    "\n",
    "  - Aquired on 2012-04-08 at 11:04:44\n",
    "\n",
    "  - With a duration time of 00061755 milliseconds\n",
    "\n",
    "  - With an orbit phase of 3 and orbit cycle of 113\n",
    "\n",
    "  - With a relative orbit number of 00267\n",
    "\n",
    "  - With an absolute orbit number of 52867\n",
    "\n",
    "```ASA_WSDV2PRNMI20120408_110444_000617553113_00267_52867_0000.nc```\n",
    "\n",
    "<br />\n",
    "\n",
    "The filename for the **HH** product:\n",
    "\n",
    "  - Aquired on 2012-04-08 at 06:42:50\n",
    "\n",
    "  - With a duration time of 00062222 milliseconds\n",
    "\n",
    "  - With an orbit phase of 3 and orbit cycle of 113\n",
    "\n",
    "  - With a relative orbit number of 00264\n",
    "\n",
    "  - With an absolute orbit number of 52864\n",
    "\n",
    "```ASA_WSDH2PRNMI20120408_064250_000622223113_00264_52864_0000.nc```\n"
   ]
  }
 ],
 "metadata": {
  "kernelspec": {
   "display_name": "Python 3 (ipykernel)",
   "language": "python",
   "name": "python3"
  },
  "language_info": {
   "codemirror_mode": {
    "name": "ipython",
    "version": 3
   },
   "file_extension": ".py",
   "mimetype": "text/x-python",
   "name": "python",
   "nbconvert_exporter": "python",
   "pygments_lexer": "ipython3",
   "version": "3.12.8"
  }
 },
 "nbformat": 4,
 "nbformat_minor": 4
}
